{
 "cells": [
  {
   "cell_type": "markdown",
   "metadata": {
    "application/vnd.databricks.v1+cell": {
     "cellMetadata": {},
     "inputWidgets": {},
     "nuid": "fa847a68-3cd3-4186-953e-a8d82e13c955",
     "showTitle": false,
     "tableResultSettingsMap": {},
     "title": ""
    }
   },
   "source": [
    "\n",
    "# Starting Session\n"
   ]
  },
  {
   "cell_type": "code",
   "execution_count": 0,
   "metadata": {
    "application/vnd.databricks.v1+cell": {
     "cellMetadata": {
      "byteLimit": 2048000,
      "rowLimit": 10000
     },
     "inputWidgets": {},
     "nuid": "63b1d85d-d8b1-434c-af49-a66b82873f4f",
     "showTitle": false,
     "tableResultSettingsMap": {},
     "title": ""
    }
   },
   "outputs": [
    {
     "data": {
      "text/html": [
       "\n",
       "            <div>\n",
       "                <p><b>SparkSession - hive</b></p>\n",
       "                \n",
       "        <div>\n",
       "            <p><b>SparkContext</b></p>\n",
       "\n",
       "            <p><a href=\"/?o=3705609641203960#setting/sparkui/0707-015713-39pqove0/driver-4356373650570584960\">Spark UI</a></p>\n",
       "\n",
       "            <dl>\n",
       "              <dt>Version</dt>\n",
       "                <dd><code>v3.3.2</code></dd>\n",
       "              <dt>Master</dt>\n",
       "                <dd><code>local[8]</code></dd>\n",
       "              <dt>AppName</dt>\n",
       "                <dd><code>Databricks Shell</code></dd>\n",
       "            </dl>\n",
       "        </div>\n",
       "        \n",
       "            </div>\n",
       "        "
      ]
     },
     "metadata": {
      "application/vnd.databricks.v1+output": {
       "addedWidgets": {},
       "arguments": {},
       "data": "\n            <div>\n                <p><b>SparkSession - hive</b></p>\n                \n        <div>\n            <p><b>SparkContext</b></p>\n\n            <p><a href=\"/?o=3705609641203960#setting/sparkui/0707-015713-39pqove0/driver-4356373650570584960\">Spark UI</a></p>\n\n            <dl>\n              <dt>Version</dt>\n                <dd><code>v3.3.2</code></dd>\n              <dt>Master</dt>\n                <dd><code>local[8]</code></dd>\n              <dt>AppName</dt>\n                <dd><code>Databricks Shell</code></dd>\n            </dl>\n        </div>\n        \n            </div>\n        ",
       "datasetInfos": [],
       "metadata": {},
       "removedWidgets": [],
       "textData": null,
       "type": "htmlSandbox"
      }
     },
     "output_type": "display_data"
    }
   ],
   "source": [
    "from pyspark.sql import SparkSession\n",
    "\n",
    "spark = SparkSession.builder.appName(\"CustomerDataProcessing\").getOrCreate()\n",
    "\n",
    "spark"
   ]
  },
  {
   "cell_type": "markdown",
   "metadata": {
    "application/vnd.databricks.v1+cell": {
     "cellMetadata": {},
     "inputWidgets": {},
     "nuid": "e5e44049-2e8a-46fb-a72e-7a2f202a176a",
     "showTitle": false,
     "tableResultSettingsMap": {},
     "title": ""
    }
   },
   "source": [
    "## Loading the Data from DBFS"
   ]
  },
  {
   "cell_type": "code",
   "execution_count": 0,
   "metadata": {
    "application/vnd.databricks.v1+cell": {
     "cellMetadata": {
      "byteLimit": 2048000,
      "rowLimit": 10000
     },
     "inputWidgets": {},
     "nuid": "e80636cf-ecbc-4931-8506-4aeedc9a0c88",
     "showTitle": false,
     "tableResultSettingsMap": {},
     "title": ""
    }
   },
   "outputs": [],
   "source": [
    "df = spark.read.format(\"csv\").option(\"header\", \"true\").load(\"/FileStore/shared_uploads/santi.job.2022@gmail.com/customers.csv\")"
   ]
  },
  {
   "cell_type": "code",
   "execution_count": 0,
   "metadata": {
    "application/vnd.databricks.v1+cell": {
     "cellMetadata": {
      "byteLimit": 2048000,
      "rowLimit": 10000
     },
     "inputWidgets": {},
     "nuid": "9350e596-d74f-4179-8fe5-2e05d42d2455",
     "showTitle": false,
     "tableResultSettingsMap": {},
     "title": ""
    }
   },
   "outputs": [
    {
     "name": "stdout",
     "output_type": "stream",
     "text": [
      "+-----------+----------+---------+-----------+-------+-----------------+---------+\n",
      "|customer_id|      name|     city|      state|country|registration_date|is_active|\n",
      "+-----------+----------+---------+-----------+-------+-----------------+---------+\n",
      "|          0|Customer_0|     Pune|Maharashtra|  India|       2023-06-29|    False|\n",
      "|          1|Customer_1|Bangalore| Tamil Nadu|  India|       2023-12-07|     True|\n",
      "|          2|Customer_2|Hyderabad|    Gujarat|  India|       2023-10-27|     True|\n",
      "|          3|Customer_3|Bangalore|  Karnataka|  India|       2023-10-17|    False|\n",
      "|          4|Customer_4|Ahmedabad|  Karnataka|  India|       2023-03-14|    False|\n",
      "+-----------+----------+---------+-----------+-------+-----------------+---------+\n",
      "only showing top 5 rows\n",
      "\n",
      "root\n",
      " |-- customer_id: string (nullable = true)\n",
      " |-- name: string (nullable = true)\n",
      " |-- city: string (nullable = true)\n",
      " |-- state: string (nullable = true)\n",
      " |-- country: string (nullable = true)\n",
      " |-- registration_date: string (nullable = true)\n",
      " |-- is_active: string (nullable = true)\n",
      "\n"
     ]
    }
   ],
   "source": [
    "df.show(5)\n",
    "df.printSchema()"
   ]
  },
  {
   "cell_type": "markdown",
   "metadata": {
    "application/vnd.databricks.v1+cell": {
     "cellMetadata": {},
     "inputWidgets": {},
     "nuid": "bc0fd944-8dc9-4cb9-908f-d385b618f62a",
     "showTitle": false,
     "tableResultSettingsMap": {},
     "title": ""
    }
   },
   "source": [
    "## Using SQL to modify type fo some columns"
   ]
  },
  {
   "cell_type": "code",
   "execution_count": 0,
   "metadata": {
    "application/vnd.databricks.v1+cell": {
     "cellMetadata": {
      "byteLimit": 2048000,
      "rowLimit": 10000
     },
     "inputWidgets": {},
     "nuid": "34a8b989-f944-4b7b-a465-fba0757aac4a",
     "showTitle": false,
     "tableResultSettingsMap": {},
     "title": ""
    }
   },
   "outputs": [],
   "source": [
    "from pyspark.sql.functions import *\n",
    "\n",
    "df = df.withColumn('registration_date', to_date(col(\"registration_date\"),'yyyy-MM-dd')) \\\n",
    "    .withColumn('is_active',col(\"is_active\").cast('boolean'))"
   ]
  },
  {
   "cell_type": "code",
   "execution_count": 0,
   "metadata": {
    "application/vnd.databricks.v1+cell": {
     "cellMetadata": {
      "byteLimit": 2048000,
      "rowLimit": 10000
     },
     "inputWidgets": {},
     "nuid": "d6040968-a22a-4e74-abb7-d08ab44d8df2",
     "showTitle": false,
     "tableResultSettingsMap": {},
     "title": ""
    }
   },
   "outputs": [
    {
     "name": "stdout",
     "output_type": "stream",
     "text": [
      "+-----------+----------+---------+-----------+-------+-----------------+---------+\n",
      "|customer_id|      name|     city|      state|country|registration_date|is_active|\n",
      "+-----------+----------+---------+-----------+-------+-----------------+---------+\n",
      "|          0|Customer_0|     Pune|Maharashtra|  India|       2023-06-29|    false|\n",
      "|          1|Customer_1|Bangalore| Tamil Nadu|  India|       2023-12-07|     true|\n",
      "|          2|Customer_2|Hyderabad|    Gujarat|  India|       2023-10-27|     true|\n",
      "|          3|Customer_3|Bangalore|  Karnataka|  India|       2023-10-17|    false|\n",
      "|          4|Customer_4|Ahmedabad|  Karnataka|  India|       2023-03-14|    false|\n",
      "+-----------+----------+---------+-----------+-------+-----------------+---------+\n",
      "only showing top 5 rows\n",
      "\n",
      "root\n",
      " |-- customer_id: string (nullable = true)\n",
      " |-- name: string (nullable = true)\n",
      " |-- city: string (nullable = true)\n",
      " |-- state: string (nullable = true)\n",
      " |-- country: string (nullable = true)\n",
      " |-- registration_date: date (nullable = true)\n",
      " |-- is_active: boolean (nullable = true)\n",
      "\n"
     ]
    }
   ],
   "source": [
    "df.show(5)\n",
    "df.printSchema()"
   ]
  },
  {
   "cell_type": "code",
   "execution_count": 0,
   "metadata": {
    "application/vnd.databricks.v1+cell": {
     "cellMetadata": {
      "byteLimit": 2048000,
      "rowLimit": 10000
     },
     "inputWidgets": {},
     "nuid": "0c098005-452a-41bb-b32d-e305eb8eea37",
     "showTitle": false,
     "tableResultSettingsMap": {},
     "title": ""
    }
   },
   "outputs": [
    {
     "name": "stdout",
     "output_type": "stream",
     "text": [
      "Out[26]: 17653"
     ]
    }
   ],
   "source": [
    "df.count()"
   ]
  },
  {
   "cell_type": "markdown",
   "metadata": {
    "application/vnd.databricks.v1+cell": {
     "cellMetadata": {},
     "inputWidgets": {},
     "nuid": "f5854ddb-d9c6-4ee2-a440-fe4cd9d269b0",
     "showTitle": false,
     "tableResultSettingsMap": {},
     "title": ""
    }
   },
   "source": [
    "## Dealing with Missing values in Pyspark"
   ]
  },
  {
   "cell_type": "code",
   "execution_count": 0,
   "metadata": {
    "application/vnd.databricks.v1+cell": {
     "cellMetadata": {
      "byteLimit": 2048000,
      "rowLimit": 10000
     },
     "inputWidgets": {},
     "nuid": "675b93f2-85c1-461c-9f6d-1d000ad252f9",
     "showTitle": false,
     "tableResultSettingsMap": {},
     "title": ""
    }
   },
   "outputs": [],
   "source": [
    "df = df.fillna({'city':'Unknown','state':'Unknown','country':'Unknown'})"
   ]
  },
  {
   "cell_type": "code",
   "execution_count": 0,
   "metadata": {
    "application/vnd.databricks.v1+cell": {
     "cellMetadata": {
      "byteLimit": 2048000,
      "rowLimit": 10000
     },
     "inputWidgets": {},
     "nuid": "1fbdf331-73d5-49ec-8511-f5b803486d5a",
     "showTitle": false,
     "tableResultSettingsMap": {},
     "title": ""
    }
   },
   "outputs": [
    {
     "name": "stdout",
     "output_type": "stream",
     "text": [
      "+-----------+----------+---------+-----------+-------+-----------------+---------+\n",
      "|customer_id|      name|     city|      state|country|registration_date|is_active|\n",
      "+-----------+----------+---------+-----------+-------+-----------------+---------+\n",
      "|          0|Customer_0|     Pune|Maharashtra|  India|       2023-06-29|    false|\n",
      "|          1|Customer_1|Bangalore| Tamil Nadu|  India|       2023-12-07|     true|\n",
      "|          2|Customer_2|Hyderabad|    Gujarat|  India|       2023-10-27|     true|\n",
      "|          3|Customer_3|Bangalore|  Karnataka|  India|       2023-10-17|    false|\n",
      "|          4|Customer_4|Ahmedabad|  Karnataka|  India|       2023-03-14|    false|\n",
      "+-----------+----------+---------+-----------+-------+-----------------+---------+\n",
      "only showing top 5 rows\n",
      "\n"
     ]
    }
   ],
   "source": [
    "df.show(5)"
   ]
  },
  {
   "cell_type": "markdown",
   "metadata": {
    "application/vnd.databricks.v1+cell": {
     "cellMetadata": {},
     "inputWidgets": {},
     "nuid": "5f8bc83b-a391-4828-942f-43e36d34e039",
     "showTitle": false,
     "tableResultSettingsMap": {},
     "title": ""
    }
   },
   "source": [
    "**- Let's first see if there are nulls in the `registration_date` column**"
   ]
  },
  {
   "cell_type": "code",
   "execution_count": 0,
   "metadata": {
    "application/vnd.databricks.v1+cell": {
     "cellMetadata": {
      "byteLimit": 2048000,
      "rowLimit": 10000
     },
     "inputWidgets": {},
     "nuid": "da69f23e-52eb-4975-87f3-07f6665d042a",
     "showTitle": false,
     "tableResultSettingsMap": {},
     "title": ""
    }
   },
   "outputs": [
    {
     "name": "stdout",
     "output_type": "stream",
     "text": [
      "Out[15]: 0"
     ]
    }
   ],
   "source": [
    "df.filter(col(\"registration_date\").isNull()).count()"
   ]
  },
  {
   "cell_type": "code",
   "execution_count": 0,
   "metadata": {
    "application/vnd.databricks.v1+cell": {
     "cellMetadata": {
      "byteLimit": 2048000,
      "rowLimit": 10000
     },
     "inputWidgets": {},
     "nuid": "eced3c92-331b-4d5a-83fa-ba1fe127c877",
     "showTitle": false,
     "tableResultSettingsMap": {},
     "title": ""
    }
   },
   "outputs": [],
   "source": [
    "df = df.withColumn('registration_year',year(col('registration_date')))\\\n",
    "    .withColumn('registration_month',month(col('registration_date')))"
   ]
  },
  {
   "cell_type": "code",
   "execution_count": 0,
   "metadata": {
    "application/vnd.databricks.v1+cell": {
     "cellMetadata": {
      "byteLimit": 2048000,
      "rowLimit": 10000
     },
     "inputWidgets": {},
     "nuid": "9d2180a7-91cc-4543-9fad-9dc2dbb2b55a",
     "showTitle": false,
     "tableResultSettingsMap": {},
     "title": ""
    }
   },
   "outputs": [
    {
     "name": "stdout",
     "output_type": "stream",
     "text": [
      "+-----------+----------+---------+-----------+-------+-----------------+---------+-----------------+------------------+\n",
      "|customer_id|      name|     city|      state|country|registration_date|is_active|registration_year|registration_month|\n",
      "+-----------+----------+---------+-----------+-------+-----------------+---------+-----------------+------------------+\n",
      "|          0|Customer_0|     Pune|Maharashtra|  India|       2023-06-29|    false|             2023|                 6|\n",
      "|          1|Customer_1|Bangalore| Tamil Nadu|  India|       2023-12-07|     true|             2023|                12|\n",
      "|          2|Customer_2|Hyderabad|    Gujarat|  India|       2023-10-27|     true|             2023|                10|\n",
      "|          3|Customer_3|Bangalore|  Karnataka|  India|       2023-10-17|    false|             2023|                10|\n",
      "|          4|Customer_4|Ahmedabad|  Karnataka|  India|       2023-03-14|    false|             2023|                 3|\n",
      "+-----------+----------+---------+-----------+-------+-----------------+---------+-----------------+------------------+\n",
      "only showing top 5 rows\n",
      "\n"
     ]
    }
   ],
   "source": [
    "df.show(5)"
   ]
  },
  {
   "cell_type": "markdown",
   "metadata": {
    "application/vnd.databricks.v1+cell": {
     "cellMetadata": {},
     "inputWidgets": {},
     "nuid": "c8c578c7-4cc8-4e14-8b43-6785677b12a6",
     "showTitle": false,
     "tableResultSettingsMap": {},
     "title": ""
    }
   },
   "source": [
    "## More Data Exploration"
   ]
  },
  {
   "cell_type": "markdown",
   "metadata": {
    "application/vnd.databricks.v1+cell": {
     "cellMetadata": {},
     "inputWidgets": {},
     "nuid": "3204a8ac-fe44-4e9b-86fb-d7e19b33fd62",
     "showTitle": false,
     "tableResultSettingsMap": {},
     "title": ""
    }
   },
   "source": [
    "**- Next, let's explore unique values**"
   ]
  },
  {
   "cell_type": "code",
   "execution_count": 0,
   "metadata": {
    "application/vnd.databricks.v1+cell": {
     "cellMetadata": {
      "byteLimit": 2048000,
      "rowLimit": 10000
     },
     "inputWidgets": {},
     "nuid": "9d542694-80ca-4144-80c5-d75e12a85790",
     "showTitle": false,
     "tableResultSettingsMap": {},
     "title": ""
    }
   },
   "outputs": [
    {
     "name": "stdout",
     "output_type": "stream",
     "text": [
      "8\n",
      "7\n",
      "1\n"
     ]
    }
   ],
   "source": [
    "unique_cities = df.select(countDistinct('city')).collect()\n",
    "unique_cities[0][0]\n",
    "\n",
    "unique_states = df.select(countDistinct('state')).collect()\n",
    "unique_states[0][0]\n",
    "\n",
    "unique_countries = df.select(countDistinct('country')).collect()\n",
    "unique_countries[0][0]\n",
    "\n",
    "print(unique_cities[0][0])\n",
    "print(unique_states[0][0])\n",
    "print(unique_countries[0][0])"
   ]
  },
  {
   "cell_type": "markdown",
   "metadata": {
    "application/vnd.databricks.v1+cell": {
     "cellMetadata": {},
     "inputWidgets": {},
     "nuid": "179856ef-7e77-4711-adb8-c35abea2f316",
     "showTitle": false,
     "tableResultSettingsMap": {},
     "title": ""
    }
   },
   "source": [
    "**- More Analysis using with groupBy, pivot and window**"
   ]
  },
  {
   "cell_type": "code",
   "execution_count": 0,
   "metadata": {
    "application/vnd.databricks.v1+cell": {
     "cellMetadata": {
      "byteLimit": 2048000,
      "rowLimit": 10000
     },
     "inputWidgets": {},
     "nuid": "b8112d2f-914c-4be1-ba2d-594362ca5840",
     "showTitle": false,
     "tableResultSettingsMap": {},
     "title": ""
    }
   },
   "outputs": [
    {
     "name": "stdout",
     "output_type": "stream",
     "text": [
      "+-----------+----------+---------+-----------+-------+-----------------+---------+-----------------+------------------+\n",
      "|customer_id|      name|     city|      state|country|registration_date|is_active|registration_year|registration_month|\n",
      "+-----------+----------+---------+-----------+-------+-----------------+---------+-----------------+------------------+\n",
      "|          0|Customer_0|     Pune|Maharashtra|  India|       2023-06-29|    false|             2023|                 6|\n",
      "|          1|Customer_1|Bangalore| Tamil Nadu|  India|       2023-12-07|     true|             2023|                12|\n",
      "|          2|Customer_2|Hyderabad|    Gujarat|  India|       2023-10-27|     true|             2023|                10|\n",
      "|          3|Customer_3|Bangalore|  Karnataka|  India|       2023-10-17|    false|             2023|                10|\n",
      "|          4|Customer_4|Ahmedabad|  Karnataka|  India|       2023-03-14|    false|             2023|                 3|\n",
      "+-----------+----------+---------+-----------+-------+-----------------+---------+-----------------+------------------+\n",
      "only showing top 5 rows\n",
      "\n"
     ]
    }
   ],
   "source": [
    "df.show(5)"
   ]
  },
  {
   "cell_type": "code",
   "execution_count": 0,
   "metadata": {
    "application/vnd.databricks.v1+cell": {
     "cellMetadata": {
      "byteLimit": 2048000,
      "rowLimit": 10000
     },
     "inputWidgets": {},
     "nuid": "1f017b6d-0634-47b8-b616-2b46e543f955",
     "showTitle": false,
     "tableResultSettingsMap": {},
     "title": ""
    }
   },
   "outputs": [
    {
     "name": "stdout",
     "output_type": "stream",
     "text": [
      "+---------+-----+\n",
      "|     city|count|\n",
      "+---------+-----+\n",
      "|     Pune| 2243|\n",
      "|Hyderabad| 2242|\n",
      "|  Kolkata| 2223|\n",
      "|Bangalore| 2211|\n",
      "|    Delhi| 2200|\n",
      "|Ahmedabad| 2198|\n",
      "|  Chennai| 2194|\n",
      "|   Mumbai| 2142|\n",
      "+---------+-----+\n",
      "\n"
     ]
    }
   ],
   "source": [
    "df.groupBy('city').count().orderBy(col('count').desc()).show()"
   ]
  },
  {
   "cell_type": "code",
   "execution_count": 0,
   "metadata": {
    "application/vnd.databricks.v1+cell": {
     "cellMetadata": {
      "byteLimit": 2048000,
      "rowLimit": 10000
     },
     "inputWidgets": {},
     "nuid": "abfc7eaf-71bf-4aa8-9754-15aebb985020",
     "showTitle": false,
     "tableResultSettingsMap": {},
     "title": ""
    }
   },
   "outputs": [
    {
     "name": "stdout",
     "output_type": "stream",
     "text": [
      "+-----------+-------+-----+\n",
      "|      state|country|count|\n",
      "+-----------+-------+-----+\n",
      "|      Delhi|  India| 2578|\n",
      "|    Gujarat|  India| 2543|\n",
      "| Tamil Nadu|  India| 2536|\n",
      "|  Telangana|  India| 2520|\n",
      "|West Bengal|  India| 2503|\n",
      "|Maharashtra|  India| 2490|\n",
      "|  Karnataka|  India| 2483|\n",
      "+-----------+-------+-----+\n",
      "\n"
     ]
    }
   ],
   "source": [
    "df.groupBy('state','country').count().orderBy(col('count').desc()).show()"
   ]
  },
  {
   "cell_type": "code",
   "execution_count": 0,
   "metadata": {
    "application/vnd.databricks.v1+cell": {
     "cellMetadata": {
      "byteLimit": 2048000,
      "rowLimit": 10000
     },
     "inputWidgets": {},
     "nuid": "f3f96117-9ace-437f-bbe2-0b1969ed5977",
     "showTitle": false,
     "tableResultSettingsMap": {},
     "title": ""
    }
   },
   "outputs": [
    {
     "name": "stdout",
     "output_type": "stream",
     "text": [
      "+-----------+-----+----+\n",
      "|      state|false|true|\n",
      "+-----------+-----+----+\n",
      "|  Karnataka| 1207|1276|\n",
      "| Tamil Nadu| 1284|1252|\n",
      "|    Gujarat| 1211|1332|\n",
      "|      Delhi| 1356|1222|\n",
      "|  Telangana| 1294|1226|\n",
      "|Maharashtra| 1260|1230|\n",
      "|West Bengal| 1306|1197|\n",
      "+-----------+-----+----+\n",
      "\n"
     ]
    }
   ],
   "source": [
    "# Pivot Table - Count of Active and Inactive Users Per state\n",
    "\n",
    "df.groupBy('state').pivot('is_active').count().show()\n"
   ]
  },
  {
   "cell_type": "code",
   "execution_count": 0,
   "metadata": {
    "application/vnd.databricks.v1+cell": {
     "cellMetadata": {
      "byteLimit": 2048000,
      "rowLimit": 10000
     },
     "inputWidgets": {},
     "nuid": "c82d6308-c487-4b0b-9b3d-4c827a373fb5",
     "showTitle": false,
     "tableResultSettingsMap": {},
     "title": ""
    }
   },
   "outputs": [],
   "source": [
    "from pyspark.sql.window import Window\n",
    "\n",
    "window_spec = Window.partitionBy('state').orderBy(col('registration_date').desc())\n",
    "\n",
    "df = df.withColumn('rank',rank().over(window_spec))\\\n",
    "    .withColumn('dense_rank',dense_rank().over(window_spec))\\\n",
    "    .withColumn('row_number',row_number().over(window_spec))\n"
   ]
  },
  {
   "cell_type": "code",
   "execution_count": 0,
   "metadata": {
    "application/vnd.databricks.v1+cell": {
     "cellMetadata": {
      "byteLimit": 2048000,
      "rowLimit": 10000
     },
     "inputWidgets": {},
     "nuid": "329d05c7-8357-4d0b-b99d-70ff69db7e72",
     "showTitle": false,
     "tableResultSettingsMap": {},
     "title": ""
    }
   },
   "outputs": [
    {
     "name": "stdout",
     "output_type": "stream",
     "text": [
      "+--------------+---------+-----+-----------------+----+----------+----------+\n",
      "|          name|     city|state|registration_date|rank|dense_rank|row_number|\n",
      "+--------------+---------+-----+-----------------+----+----------+----------+\n",
      "|   Customer_61|Hyderabad|Delhi|       2023-12-31|   1|         1|         1|\n",
      "|  Customer_501|   Mumbai|Delhi|       2023-12-31|   1|         1|         2|\n",
      "| Customer_2763|     Pune|Delhi|       2023-12-31|   1|         1|         3|\n",
      "|Customer_12858|Ahmedabad|Delhi|       2023-12-31|   1|         1|         4|\n",
      "|Customer_13570|Bangalore|Delhi|       2023-12-31|   1|         1|         5|\n",
      "|Customer_14970|  Chennai|Delhi|       2023-12-31|   1|         1|         6|\n",
      "|Customer_16447|Ahmedabad|Delhi|       2023-12-31|   1|         1|         7|\n",
      "|Customer_16709|  Chennai|Delhi|       2023-12-31|   1|         1|         8|\n",
      "|Customer_17129|  Chennai|Delhi|       2023-12-31|   1|         1|         9|\n",
      "|  Customer_250|     Pune|Delhi|       2023-12-30|  10|         2|        10|\n",
      "+--------------+---------+-----+-----------------+----+----------+----------+\n",
      "only showing top 10 rows\n",
      "\n"
     ]
    }
   ],
   "source": [
    "df.select('name','city','state','registration_date','rank','dense_rank','row_number').show(10)"
   ]
  },
  {
   "cell_type": "code",
   "execution_count": 0,
   "metadata": {
    "application/vnd.databricks.v1+cell": {
     "cellMetadata": {
      "byteLimit": 2048000,
      "rowLimit": 10000
     },
     "inputWidgets": {},
     "nuid": "ee989401-5c2e-42ea-ba67-e268488f4b69",
     "showTitle": false,
     "tableResultSettingsMap": {},
     "title": ""
    }
   },
   "outputs": [
    {
     "name": "stdout",
     "output_type": "stream",
     "text": [
      "Out[36]: 9025"
     ]
    }
   ],
   "source": [
    "df_recent_customers = df.filter(col(\"registration_date\") >= lit('2023-07-01')) # lit uses the value to fill a column with that value repeated on each row\n",
    "df_recent_customers.count()"
   ]
  },
  {
   "cell_type": "code",
   "execution_count": 0,
   "metadata": {
    "application/vnd.databricks.v1+cell": {
     "cellMetadata": {
      "byteLimit": 2048000,
      "rowLimit": 10000
     },
     "inputWidgets": {},
     "nuid": "45238d64-c539-4013-9da3-8dc5d871458c",
     "showTitle": false,
     "tableResultSettingsMap": {},
     "title": ""
    }
   },
   "outputs": [
    {
     "name": "stdout",
     "output_type": "stream",
     "text": [
      "+---------+----------+----------+\n",
      "|     city|    oldest|    newest|\n",
      "+---------+----------+----------+\n",
      "|Bangalore|2023-01-01|2023-12-31|\n",
      "|  Chennai|2023-01-01|2023-12-31|\n",
      "|   Mumbai|2023-01-01|2023-12-31|\n",
      "|Ahmedabad|2023-01-01|2023-12-31|\n",
      "|  Kolkata|2023-01-01|2023-12-31|\n",
      "|     Pune|2023-01-01|2023-12-31|\n",
      "|    Delhi|2023-01-01|2023-12-31|\n",
      "|Hyderabad|2023-01-01|2023-12-31|\n",
      "+---------+----------+----------+\n",
      "\n"
     ]
    }
   ],
   "source": [
    "# oldest and the neweset customer per city\n",
    "\n",
    "df.groupBy('city').agg(min('registration_date').alias('oldest'),max('registration_date').alias('newest')).show()\n"
   ]
  },
  {
   "cell_type": "code",
   "execution_count": 0,
   "metadata": {
    "application/vnd.databricks.v1+cell": {
     "cellMetadata": {
      "byteLimit": 2048000,
      "rowLimit": 10000
     },
     "inputWidgets": {},
     "nuid": "d1c7cb96-8558-4239-be18-c79cc29ae038",
     "showTitle": false,
     "tableResultSettingsMap": {},
     "title": ""
    }
   },
   "outputs": [],
   "source": [
    "output_path = '/FileStore/tables/processed_customers'\n",
    "df.write.mode('overwrite').parquet(output_path)"
   ]
  },
  {
   "cell_type": "code",
   "execution_count": null,
   "metadata": {},
   "outputs": [],
   "source": []
  },
  {
   "cell_type": "code",
   "execution_count": null,
   "metadata": {},
   "outputs": [],
   "source": []
  },
  {
   "cell_type": "code",
   "execution_count": null,
   "metadata": {},
   "outputs": [],
   "source": []
  },
  {
   "cell_type": "code",
   "execution_count": null,
   "metadata": {},
   "outputs": [],
   "source": []
  },
  {
   "cell_type": "code",
   "execution_count": null,
   "metadata": {},
   "outputs": [],
   "source": []
  },
  {
   "cell_type": "code",
   "execution_count": null,
   "metadata": {},
   "outputs": [],
   "source": []
  },
  {
   "cell_type": "code",
   "execution_count": null,
   "metadata": {},
   "outputs": [],
   "source": []
  }
 ],
 "metadata": {
  "application/vnd.databricks.v1+notebook": {
   "computePreferences": null,
   "dashboards": [],
   "environmentMetadata": {
    "base_environment": "",
    "environment_version": "1"
   },
   "inputWidgetPreferences": null,
   "language": "python",
   "notebookMetadata": {
    "mostRecentlyExecutedCommandWithImplicitDF": {
     "commandId": 3437811182919993,
     "dataframes": [
      "_sqldf"
     ]
    },
    "pythonIndentUnit": 4
   },
   "notebookName": "Mini Project 1 - Data Read & Process",
   "widgets": {}
  },
  "language_info": {
   "name": "python"
  }
 },
 "nbformat": 4,
 "nbformat_minor": 0
}
