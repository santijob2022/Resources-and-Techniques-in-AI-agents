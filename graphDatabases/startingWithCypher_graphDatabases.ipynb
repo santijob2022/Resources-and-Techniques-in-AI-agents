{
 "cells": [
  {
   "cell_type": "markdown",
   "id": "0151deab-ec4e-4738-b9b0-fec2424b2da3",
   "metadata": {},
   "source": [
    "## Querying Knowledge Graphs with Cypher"
   ]
  },
  {
   "cell_type": "markdown",
   "id": "74b00a43-df0b-4ead-8de6-2365e8a26f53",
   "metadata": {},
   "source": [
    "### Import packages and set up Neo4"
   ]
  },
  {
   "cell_type": "code",
   "execution_count": null,
   "id": "904e0dd9",
   "metadata": {},
   "outputs": [],
   "source": [
    "# !pip install neo4j"
   ]
  },
  {
   "cell_type": "code",
   "execution_count": 1,
   "id": "bc780563-88e7-4c75-92c7-eb34def44a9f",
   "metadata": {
    "height": 149
   },
   "outputs": [],
   "source": [
    "%load_ext autoreload\n",
    "%autoreload 2\n",
    "\n",
    "from dotenv import load_dotenv\n",
    "import os\n",
    "\n",
    "from langchain_community.graphs import Neo4jGraph\n",
    "\n",
    "# Warning control\n",
    "import warnings\n",
    "warnings.filterwarnings(\"ignore\")"
   ]
  },
  {
   "cell_type": "markdown",
   "id": "8e2e8373",
   "metadata": {},
   "source": [
    "## Creating a database on Cloud\n",
    "\n",
    "- First get credentials"
   ]
  },
  {
   "cell_type": "code",
   "execution_count": 2,
   "id": "dc14720f",
   "metadata": {},
   "outputs": [],
   "source": [
    "load_dotenv('.env', override=True)\n",
    "NEO4J_URI = os.getenv('NEO4J_URI')\n",
    "NEO4J_USERNAME = os.getenv('NEO4J_USERNAME')\n",
    "NEO4J_PASSWORD = os.getenv('NEO4J_PASSWORD')\n",
    "NEO4J_DATABASE = os.getenv('NEO4J_DATABASE')"
   ]
  },
  {
   "cell_type": "code",
   "execution_count": 4,
   "id": "4931d07d",
   "metadata": {},
   "outputs": [],
   "source": [
    "from neo4j import GraphDatabase\n",
    "\n",
    "# URI examples: \"neo4j://localhost\", \"neo4j+s://xxx.databases.neo4j.io\"\n",
    "AUTH = (NEO4J_USERNAME, NEO4J_PASSWORD)\n",
    "\n",
    "with GraphDatabase.driver(NEO4J_URI, auth=AUTH) as driver:\n",
    "    driver.verify_connectivity()"
   ]
  },
  {
   "cell_type": "markdown",
   "id": "7a8affe7-9424-47d4-97c7-0a675fc2398f",
   "metadata": {},
   "source": [
    "- Initialize a knowledge graph instance using LangChain's Neo4j integration"
   ]
  },
  {
   "cell_type": "code",
   "execution_count": 5,
   "id": "a5c03340-9078-42b2-9e0a-2dc8495b818f",
   "metadata": {
    "height": 64
   },
   "outputs": [],
   "source": [
    "kg = Neo4jGraph(\n",
    "    url=NEO4J_URI, username=NEO4J_USERNAME, password=NEO4J_PASSWORD, database=NEO4J_DATABASE\n",
    ")"
   ]
  },
  {
   "cell_type": "markdown",
   "id": "a703052f-c74e-4933-8e62-7e3ec9b12986",
   "metadata": {},
   "source": [
    "- Initially the default graph database is empty as can be seen by using the next query"
   ]
  },
  {
   "cell_type": "code",
   "execution_count": 8,
   "id": "b12cfece-6188-4fa4-8ba6-f0eff39c6546",
   "metadata": {
    "height": 81,
    "scrolled": true
   },
   "outputs": [
    {
     "data": {
      "text/plain": [
       "[{'count(n)': 0}]"
      ]
     },
     "execution_count": 8,
     "metadata": {},
     "output_type": "execute_result"
    }
   ],
   "source": [
    "cypher = \"\"\"\n",
    "  MATCH (n) \n",
    "  RETURN count(n)\n",
    "  \"\"\"\n",
    "result = kg.query(cypher)\n",
    "result"
   ]
  },
  {
   "cell_type": "markdown",
   "id": "3facb1fa",
   "metadata": {},
   "source": [
    "- I will populate it with data in the file Data/create_graph_database.cypher\n",
    "- Uncomment and execute the following code if you have not populated your database.\n",
    "- Additionally, the file needs to be uncommented: just select all the content in the cypher file and uncomment it, the run the following code."
   ]
  },
  {
   "cell_type": "code",
   "execution_count": 22,
   "id": "83e217de",
   "metadata": {},
   "outputs": [],
   "source": [
    "# with open('Data/create_graph_database.cypher', 'r') as file:\n",
    "#     setup_script = file.read()\n",
    "\n",
    "# # Split and execute each query from your file\n",
    "# queries = [q.strip() for q in setup_script.split(';') if q.strip()]\n",
    "\n",
    "# for query in queries:\n",
    "#     try:\n",
    "#         result = kg.query(query)\n",
    "#         print(f\"✓ Executed: {query[:50]}...\")\n",
    "#     except Exception as e:\n",
    "#         print(f\"✗ Error executing query: {e}\")"
   ]
  },
  {
   "cell_type": "markdown",
   "id": "7f489f24",
   "metadata": {},
   "source": [
    "## Exploring the Neo4j Graph Database with some basic commands"
   ]
  },
  {
   "cell_type": "code",
   "execution_count": 25,
   "id": "b95b5cf1",
   "metadata": {},
   "outputs": [
    {
     "data": {
      "text/plain": [
       "[{'numberOfNodes': 171}]"
      ]
     },
     "execution_count": 25,
     "metadata": {},
     "output_type": "execute_result"
    }
   ],
   "source": [
    "cypher = \"\"\"\n",
    "  MATCH (n) \n",
    "  RETURN count(n) AS numberOfNodes\n",
    "  \"\"\"\n",
    "result = kg.query(cypher)\n",
    "result"
   ]
  },
  {
   "cell_type": "code",
   "execution_count": 26,
   "id": "4ae04daa-bc4c-42ca-864a-79b3915a234e",
   "metadata": {
    "height": 30
   },
   "outputs": [
    {
     "name": "stdout",
     "output_type": "stream",
     "text": [
      "There are 171 nodes in this graph.\n"
     ]
    }
   ],
   "source": [
    "print(f\"There are {result[0]['numberOfNodes']} nodes in this graph.\")"
   ]
  },
  {
   "cell_type": "code",
   "execution_count": 41,
   "id": "5b9ec204",
   "metadata": {},
   "outputs": [
    {
     "data": {
      "text/plain": [
       "[{'numberOfNodes': 171}]"
      ]
     },
     "execution_count": 41,
     "metadata": {},
     "output_type": "execute_result"
    }
   ],
   "source": [
    "cypher = \"\"\"\n",
    "  MATCH (n) \n",
    "  RETURN count(n) AS numberOfNodes\n",
    "  \"\"\"\n",
    "result = kg.query(cypher)\n",
    "result"
   ]
  },
  {
   "cell_type": "markdown",
   "id": "d3e27a7e",
   "metadata": {},
   "source": [
    "- Find all labels"
   ]
  },
  {
   "cell_type": "code",
   "execution_count": 36,
   "id": "f59c91e6",
   "metadata": {},
   "outputs": [
    {
     "data": {
      "text/plain": [
       "[{'nodeLabels': ['Movie']}, {'nodeLabels': ['Person']}]"
      ]
     },
     "execution_count": 36,
     "metadata": {},
     "output_type": "execute_result"
    }
   ],
   "source": [
    "cypher = \"\"\"\n",
    "MATCH (n) \n",
    "RETURN DISTINCT labels(n) AS nodeLabels\n",
    "\"\"\"\n",
    "result = kg.query(cypher)\n",
    "result"
   ]
  },
  {
   "cell_type": "code",
   "execution_count": 37,
   "id": "76c2d47f",
   "metadata": {},
   "outputs": [
    {
     "data": {
      "text/plain": [
       "[{'nodeLabels': ['Person'], 'count': 133},\n",
       " {'nodeLabels': ['Movie'], 'count': 38}]"
      ]
     },
     "execution_count": 37,
     "metadata": {},
     "output_type": "execute_result"
    }
   ],
   "source": [
    "cypher = \"\"\"\n",
    "MATCH (n) \n",
    "RETURN labels(n) AS nodeLabels, count(n) AS count\n",
    "ORDER BY count DESC\n",
    "\"\"\"\n",
    "result = kg.query(cypher)\n",
    "result"
   ]
  },
  {
   "cell_type": "markdown",
   "id": "5832b392",
   "metadata": {},
   "source": [
    "- Find all type of edges"
   ]
  },
  {
   "cell_type": "code",
   "execution_count": 38,
   "id": "37ac9cf1",
   "metadata": {},
   "outputs": [
    {
     "data": {
      "text/plain": [
       "[{'relationshipType': 'ACTED_IN'},\n",
       " {'relationshipType': 'DIRECTED'},\n",
       " {'relationshipType': 'FOLLOWS'},\n",
       " {'relationshipType': 'PRODUCED'},\n",
       " {'relationshipType': 'REVIEWED'},\n",
       " {'relationshipType': 'WROTE'}]"
      ]
     },
     "execution_count": 38,
     "metadata": {},
     "output_type": "execute_result"
    }
   ],
   "source": [
    "cypher = \"\"\"\n",
    "MATCH ()-[r]->() \n",
    "RETURN DISTINCT type(r) AS relationshipType\n",
    "ORDER BY relationshipType\n",
    "\"\"\"\n",
    "result = kg.query(cypher)\n",
    "result"
   ]
  },
  {
   "cell_type": "markdown",
   "id": "ef33d57e-7f3a-4d66-b4d0-325973604906",
   "metadata": {},
   "source": [
    "- Match only the `Movie` nodes by specifying the node label"
   ]
  },
  {
   "cell_type": "code",
   "execution_count": 39,
   "id": "26b1ed1f-c780-4de8-8c96-5594bc8b63af",
   "metadata": {
    "height": 98
   },
   "outputs": [
    {
     "data": {
      "text/plain": [
       "[{'numberOfMovies': 38}]"
      ]
     },
     "execution_count": 39,
     "metadata": {},
     "output_type": "execute_result"
    }
   ],
   "source": [
    "cypher = \"\"\"\n",
    "  MATCH (m:Movie) \n",
    "  RETURN count(m) AS numberOfMovies\n",
    "  \"\"\"\n",
    "kg.query(cypher)"
   ]
  },
  {
   "cell_type": "markdown",
   "id": "b0534a64-f4c0-4e22-a79d-cce5ef595aa3",
   "metadata": {},
   "source": [
    "- Match only the `Person` nodes"
   ]
  },
  {
   "cell_type": "code",
   "execution_count": 40,
   "id": "5b7d6465-19a7-4f0c-b2a3-f32fd5991c46",
   "metadata": {
    "height": 98,
    "scrolled": true
   },
   "outputs": [
    {
     "data": {
      "text/plain": [
       "[{'numberOfPeople': 133}]"
      ]
     },
     "execution_count": 40,
     "metadata": {},
     "output_type": "execute_result"
    }
   ],
   "source": [
    "cypher = \"\"\"\n",
    "  MATCH (people:Person) \n",
    "  RETURN count(people) AS numberOfPeople\n",
    "  \"\"\"\n",
    "kg.query(cypher)"
   ]
  },
  {
   "cell_type": "markdown",
   "id": "13ccff48",
   "metadata": {},
   "source": [
    "- Show both of them at the same time"
   ]
  },
  {
   "cell_type": "code",
   "execution_count": 35,
   "id": "aaa69e78",
   "metadata": {},
   "outputs": [
    {
     "data": {
      "text/plain": [
       "[{'type': 'People', 'count': 133}, {'type': 'Movies', 'count': 38}]"
      ]
     },
     "execution_count": 35,
     "metadata": {},
     "output_type": "execute_result"
    }
   ],
   "source": [
    "cypher = \"\"\"\n",
    "MATCH (p:Person) \n",
    "RETURN 'People' AS type, count(p) AS count\n",
    "UNION\n",
    "MATCH (m:Movie) \n",
    "RETURN 'Movies' AS type, count(m) AS count\n",
    "\"\"\"\n",
    "result = kg.query(cypher)\n",
    "result"
   ]
  },
  {
   "cell_type": "markdown",
   "id": "209a950f-3335-4a47-801c-53a821529cc7",
   "metadata": {},
   "source": [
    "- Match a single person by specifying the value of the `name` property on the `Person` node"
   ]
  },
  {
   "cell_type": "code",
   "execution_count": 42,
   "id": "1c1f5e93-39dc-4585-ba3a-2cd492cbf665",
   "metadata": {
    "height": 98
   },
   "outputs": [
    {
     "data": {
      "text/plain": [
       "[{'tom': {'born': 1956, 'name': 'Tom Hanks'}}]"
      ]
     },
     "execution_count": 42,
     "metadata": {},
     "output_type": "execute_result"
    }
   ],
   "source": [
    "cypher = \"\"\"\n",
    "  MATCH (tom:Person {name:\"Tom Hanks\"}) \n",
    "  RETURN tom\n",
    "  \"\"\"\n",
    "kg.query(cypher)"
   ]
  },
  {
   "cell_type": "markdown",
   "id": "936ee283-90ba-4ada-92b2-dd7c6bccfdc9",
   "metadata": {},
   "source": [
    "- Match a single `Movie` by specifying the value of the `title` property"
   ]
  },
  {
   "cell_type": "code",
   "execution_count": 43,
   "id": "d952bf0c-d2c0-4b64-86b5-29e2521f543e",
   "metadata": {
    "height": 98
   },
   "outputs": [
    {
     "data": {
      "text/plain": [
       "[{'cloudAtlas': {'tagline': 'Everything is connected',\n",
       "   'title': 'Cloud Atlas',\n",
       "   'released': 2012}}]"
      ]
     },
     "execution_count": 43,
     "metadata": {},
     "output_type": "execute_result"
    }
   ],
   "source": [
    "cypher = \"\"\"\n",
    "  MATCH (cloudAtlas:Movie {title:\"Cloud Atlas\"}) \n",
    "  RETURN cloudAtlas\n",
    "  \"\"\"\n",
    "kg.query(cypher)"
   ]
  },
  {
   "cell_type": "markdown",
   "id": "3f6debaf-f237-4b75-b18c-5ff56ccca780",
   "metadata": {},
   "source": [
    "- Return only the `released` property of the matched `Movie` node"
   ]
  },
  {
   "cell_type": "code",
   "execution_count": 44,
   "id": "2c9d8fc2-4fc7-4e85-8ced-e3f0236e6b2f",
   "metadata": {
    "height": 98
   },
   "outputs": [
    {
     "data": {
      "text/plain": [
       "[{'cloudAtlas.released': 2012}]"
      ]
     },
     "execution_count": 44,
     "metadata": {},
     "output_type": "execute_result"
    }
   ],
   "source": [
    "cypher = \"\"\"\n",
    "  MATCH (cloudAtlas:Movie {title:\"Cloud Atlas\"}) \n",
    "  RETURN cloudAtlas.released\n",
    "  \"\"\"\n",
    "kg.query(cypher)"
   ]
  },
  {
   "cell_type": "markdown",
   "id": "00e73a39-882c-4060-926e-deb484a4358f",
   "metadata": {},
   "source": [
    "- Return two properties"
   ]
  },
  {
   "cell_type": "code",
   "execution_count": 45,
   "id": "64ad1276-c1cc-49d6-b7e9-d7126a37fabc",
   "metadata": {
    "height": 98
   },
   "outputs": [
    {
     "data": {
      "text/plain": [
       "[{'cloudAtlas.released': 2012,\n",
       "  'cloudAtlas.tagline': 'Everything is connected'}]"
      ]
     },
     "execution_count": 45,
     "metadata": {},
     "output_type": "execute_result"
    }
   ],
   "source": [
    "cypher = \"\"\"\n",
    "  MATCH (cloudAtlas:Movie {title:\"Cloud Atlas\"}) \n",
    "  RETURN cloudAtlas.released, cloudAtlas.tagline\n",
    "  \"\"\"\n",
    "kg.query(cypher)"
   ]
  },
  {
   "cell_type": "markdown",
   "id": "689be729-367a-408b-b4e5-43d2a3d69744",
   "metadata": {},
   "source": [
    "### Cypher patterns with conditional matching"
   ]
  },
  {
   "cell_type": "code",
   "execution_count": 47,
   "id": "fc7b4d4d-764e-4b83-ae7c-0f7717de85f2",
   "metadata": {
    "height": 132
   },
   "outputs": [
    {
     "data": {
      "text/plain": [
       "[{'nineties.title': 'The Matrix'},\n",
       " {'nineties.title': \"The Devil's Advocate\"},\n",
       " {'nineties.title': 'A Few Good Men'},\n",
       " {'nineties.title': 'As Good as It Gets'},\n",
       " {'nineties.title': 'What Dreams May Come'},\n",
       " {'nineties.title': 'Snow Falling on Cedars'},\n",
       " {'nineties.title': \"You've Got Mail\"},\n",
       " {'nineties.title': 'Sleepless in Seattle'},\n",
       " {'nineties.title': 'Joe Versus the Volcano'},\n",
       " {'nineties.title': 'When Harry Met Sally'},\n",
       " {'nineties.title': 'That Thing You Do'},\n",
       " {'nineties.title': 'The Birdcage'},\n",
       " {'nineties.title': 'Unforgiven'},\n",
       " {'nineties.title': 'Johnny Mnemonic'},\n",
       " {'nineties.title': 'The Green Mile'},\n",
       " {'nineties.title': 'Hoffa'},\n",
       " {'nineties.title': 'Apollo 13'},\n",
       " {'nineties.title': 'Twister'},\n",
       " {'nineties.title': 'Bicentennial Man'},\n",
       " {'nineties.title': 'A League of Their Own'}]"
      ]
     },
     "execution_count": 47,
     "metadata": {},
     "output_type": "execute_result"
    }
   ],
   "source": [
    "cypher = \"\"\"\n",
    "  MATCH (nineties:Movie) \n",
    "  WHERE nineties.released >= 1990 \n",
    "    AND nineties.released < 2000 \n",
    "  RETURN nineties.title\n",
    "  \"\"\"\n",
    "kg.query(cypher)\n"
   ]
  },
  {
   "cell_type": "markdown",
   "id": "d176b9d2-ec33-423a-b3de-e9bc87810fe7",
   "metadata": {},
   "source": [
    "### Pattern matching with multiple nodes"
   ]
  },
  {
   "cell_type": "code",
   "execution_count": 55,
   "id": "dd8ae45b-c131-4e39-a937-704855cbdd74",
   "metadata": {
    "height": 98
   },
   "outputs": [
    {
     "data": {
      "text/plain": [
       "[{'actor.name': 'Keanu Reeves',\n",
       "  'relationship': 'ACTED_IN',\n",
       "  'movie.title': 'The Matrix'},\n",
       " {'actor.name': 'Carrie-Anne Moss',\n",
       "  'relationship': 'ACTED_IN',\n",
       "  'movie.title': 'The Matrix'},\n",
       " {'actor.name': 'Laurence Fishburne',\n",
       "  'relationship': 'ACTED_IN',\n",
       "  'movie.title': 'The Matrix'},\n",
       " {'actor.name': 'Hugo Weaving',\n",
       "  'relationship': 'ACTED_IN',\n",
       "  'movie.title': 'The Matrix'},\n",
       " {'actor.name': 'Emil Eifrem',\n",
       "  'relationship': 'ACTED_IN',\n",
       "  'movie.title': 'The Matrix'},\n",
       " {'actor.name': 'Keanu Reeves',\n",
       "  'relationship': 'ACTED_IN',\n",
       "  'movie.title': 'The Matrix Reloaded'},\n",
       " {'actor.name': 'Carrie-Anne Moss',\n",
       "  'relationship': 'ACTED_IN',\n",
       "  'movie.title': 'The Matrix Reloaded'},\n",
       " {'actor.name': 'Laurence Fishburne',\n",
       "  'relationship': 'ACTED_IN',\n",
       "  'movie.title': 'The Matrix Reloaded'},\n",
       " {'actor.name': 'Hugo Weaving',\n",
       "  'relationship': 'ACTED_IN',\n",
       "  'movie.title': 'The Matrix Reloaded'},\n",
       " {'actor.name': 'Keanu Reeves',\n",
       "  'relationship': 'ACTED_IN',\n",
       "  'movie.title': 'The Matrix Revolutions'}]"
      ]
     },
     "execution_count": 55,
     "metadata": {},
     "output_type": "execute_result"
    }
   ],
   "source": [
    "cypher = \"\"\"\n",
    "MATCH (actor:Person)-[acted_in:ACTED_IN]->(movie:Movie) \n",
    "RETURN actor.name, type(acted_in) AS relationship, movie.title LIMIT 10\n",
    "\"\"\"\n",
    "result = kg.query(cypher)\n",
    "result"
   ]
  },
  {
   "cell_type": "code",
   "execution_count": 57,
   "id": "e79dd7e8-a778-467e-b6d9-ba6af8eee5bf",
   "metadata": {
    "height": 98
   },
   "outputs": [
    {
     "data": {
      "text/plain": [
       "[{'tom.name': 'Tom Hanks',\n",
       "  'ActedIn': 'ACTED_IN',\n",
       "  'tomHanksMovies.title': \"You've Got Mail\"},\n",
       " {'tom.name': 'Tom Hanks',\n",
       "  'ActedIn': 'ACTED_IN',\n",
       "  'tomHanksMovies.title': 'Sleepless in Seattle'},\n",
       " {'tom.name': 'Tom Hanks',\n",
       "  'ActedIn': 'ACTED_IN',\n",
       "  'tomHanksMovies.title': 'Joe Versus the Volcano'},\n",
       " {'tom.name': 'Tom Hanks',\n",
       "  'ActedIn': 'ACTED_IN',\n",
       "  'tomHanksMovies.title': 'That Thing You Do'},\n",
       " {'tom.name': 'Tom Hanks',\n",
       "  'ActedIn': 'ACTED_IN',\n",
       "  'tomHanksMovies.title': 'Cloud Atlas'},\n",
       " {'tom.name': 'Tom Hanks',\n",
       "  'ActedIn': 'ACTED_IN',\n",
       "  'tomHanksMovies.title': 'The Da Vinci Code'},\n",
       " {'tom.name': 'Tom Hanks',\n",
       "  'ActedIn': 'ACTED_IN',\n",
       "  'tomHanksMovies.title': 'The Green Mile'},\n",
       " {'tom.name': 'Tom Hanks',\n",
       "  'ActedIn': 'ACTED_IN',\n",
       "  'tomHanksMovies.title': 'Apollo 13'},\n",
       " {'tom.name': 'Tom Hanks',\n",
       "  'ActedIn': 'ACTED_IN',\n",
       "  'tomHanksMovies.title': 'Cast Away'},\n",
       " {'tom.name': 'Tom Hanks',\n",
       "  'ActedIn': 'ACTED_IN',\n",
       "  'tomHanksMovies.title': \"Charlie Wilson's War\"},\n",
       " {'tom.name': 'Tom Hanks',\n",
       "  'ActedIn': 'ACTED_IN',\n",
       "  'tomHanksMovies.title': 'The Polar Express'},\n",
       " {'tom.name': 'Tom Hanks',\n",
       "  'ActedIn': 'ACTED_IN',\n",
       "  'tomHanksMovies.title': 'A League of Their Own'}]"
      ]
     },
     "execution_count": 57,
     "metadata": {},
     "output_type": "execute_result"
    }
   ],
   "source": [
    "cypher = \"\"\"\n",
    "  MATCH (tom:Person {name: \"Tom Hanks\"})-[acted_in:ACTED_IN]->(tomHanksMovies:Movie) \n",
    "  RETURN tom.name, type(acted_in) AS ActedIn, tomHanksMovies.title\n",
    "  \"\"\"\n",
    "kg.query(cypher)"
   ]
  },
  {
   "cell_type": "code",
   "execution_count": 58,
   "id": "004147cc-14f4-43eb-86ff-d22e11a1d0d2",
   "metadata": {
    "height": 98
   },
   "outputs": [
    {
     "data": {
      "text/plain": [
       "[{'coActors.name': 'Meg Ryan', 'm.title': \"You've Got Mail\"},\n",
       " {'coActors.name': 'Greg Kinnear', 'm.title': \"You've Got Mail\"},\n",
       " {'coActors.name': 'Parker Posey', 'm.title': \"You've Got Mail\"},\n",
       " {'coActors.name': 'Dave Chappelle', 'm.title': \"You've Got Mail\"},\n",
       " {'coActors.name': 'Steve Zahn', 'm.title': \"You've Got Mail\"},\n",
       " {'coActors.name': 'Meg Ryan', 'm.title': 'Sleepless in Seattle'},\n",
       " {'coActors.name': 'Rita Wilson', 'm.title': 'Sleepless in Seattle'},\n",
       " {'coActors.name': 'Bill Pullman', 'm.title': 'Sleepless in Seattle'},\n",
       " {'coActors.name': 'Victor Garber', 'm.title': 'Sleepless in Seattle'},\n",
       " {'coActors.name': \"Rosie O'Donnell\", 'm.title': 'Sleepless in Seattle'},\n",
       " {'coActors.name': 'Meg Ryan', 'm.title': 'Joe Versus the Volcano'},\n",
       " {'coActors.name': 'Nathan Lane', 'm.title': 'Joe Versus the Volcano'},\n",
       " {'coActors.name': 'Charlize Theron', 'm.title': 'That Thing You Do'},\n",
       " {'coActors.name': 'Liv Tyler', 'm.title': 'That Thing You Do'},\n",
       " {'coActors.name': 'Hugo Weaving', 'm.title': 'Cloud Atlas'},\n",
       " {'coActors.name': 'Halle Berry', 'm.title': 'Cloud Atlas'},\n",
       " {'coActors.name': 'Jim Broadbent', 'm.title': 'Cloud Atlas'},\n",
       " {'coActors.name': 'Ian McKellen', 'm.title': 'The Da Vinci Code'},\n",
       " {'coActors.name': 'Audrey Tautou', 'm.title': 'The Da Vinci Code'},\n",
       " {'coActors.name': 'Paul Bettany', 'm.title': 'The Da Vinci Code'},\n",
       " {'coActors.name': 'Bonnie Hunt', 'm.title': 'The Green Mile'},\n",
       " {'coActors.name': 'James Cromwell', 'm.title': 'The Green Mile'},\n",
       " {'coActors.name': 'Michael Clarke Duncan', 'm.title': 'The Green Mile'},\n",
       " {'coActors.name': 'David Morse', 'm.title': 'The Green Mile'},\n",
       " {'coActors.name': 'Sam Rockwell', 'm.title': 'The Green Mile'},\n",
       " {'coActors.name': 'Gary Sinise', 'm.title': 'The Green Mile'},\n",
       " {'coActors.name': 'Patricia Clarkson', 'm.title': 'The Green Mile'},\n",
       " {'coActors.name': 'Kevin Bacon', 'm.title': 'Apollo 13'},\n",
       " {'coActors.name': 'Gary Sinise', 'm.title': 'Apollo 13'},\n",
       " {'coActors.name': 'Ed Harris', 'm.title': 'Apollo 13'},\n",
       " {'coActors.name': 'Bill Paxton', 'm.title': 'Apollo 13'},\n",
       " {'coActors.name': 'Helen Hunt', 'm.title': 'Cast Away'},\n",
       " {'coActors.name': 'Philip Seymour Hoffman',\n",
       "  'm.title': \"Charlie Wilson's War\"},\n",
       " {'coActors.name': 'Julia Roberts', 'm.title': \"Charlie Wilson's War\"},\n",
       " {'coActors.name': \"Rosie O'Donnell\", 'm.title': 'A League of Their Own'},\n",
       " {'coActors.name': 'Bill Paxton', 'm.title': 'A League of Their Own'},\n",
       " {'coActors.name': 'Madonna', 'm.title': 'A League of Their Own'},\n",
       " {'coActors.name': 'Geena Davis', 'm.title': 'A League of Their Own'},\n",
       " {'coActors.name': 'Lori Petty', 'm.title': 'A League of Their Own'}]"
      ]
     },
     "execution_count": 58,
     "metadata": {},
     "output_type": "execute_result"
    }
   ],
   "source": [
    "cypher = \"\"\"\n",
    "  MATCH (tom:Person {name:\"Tom Hanks\"})-[:ACTED_IN]->(m)<-[:ACTED_IN]-(coActors) \n",
    "  RETURN coActors.name, m.title\n",
    "  \"\"\"\n",
    "kg.query(cypher)"
   ]
  },
  {
   "cell_type": "markdown",
   "id": "2ad3f683-d334-4c4e-b274-9789a70b9662",
   "metadata": {},
   "source": [
    "### Delete data from the graph"
   ]
  },
  {
   "cell_type": "code",
   "execution_count": null,
   "id": "5064cab8-b5d6-4f1c-b5ef-f154f5c10b2b",
   "metadata": {
    "height": 98
   },
   "outputs": [
    {
     "data": {
      "text/plain": [
       "[{'emil.name': 'Emil Eifrem', 'movie.title': 'The Matrix'}]"
      ]
     },
     "execution_count": 59,
     "metadata": {},
     "output_type": "execute_result"
    }
   ],
   "source": [
    "cypher = \"\"\"\n",
    "MATCH (emil:Person {name:\"Emil Eifrem\"})-[actedIn:ACTED_IN]->(movie:Movie)\n",
    "RETURN emil.name, movie.title\n",
    "\"\"\"\n",
    "kg.query(cypher)"
   ]
  },
  {
   "cell_type": "code",
   "execution_count": 60,
   "id": "648d12d1-0966-46ff-ad77-080eae553c3a",
   "metadata": {
    "height": 98
   },
   "outputs": [
    {
     "data": {
      "text/plain": [
       "[]"
      ]
     },
     "execution_count": 60,
     "metadata": {},
     "output_type": "execute_result"
    }
   ],
   "source": [
    "cypher = \"\"\"\n",
    "MATCH (emil:Person {name:\"Emil Eifrem\"})-[actedIn:ACTED_IN]->(movie:Movie)\n",
    "DELETE actedIn\n",
    "\"\"\"\n",
    "kg.query(cypher)"
   ]
  },
  {
   "cell_type": "markdown",
   "id": "5c86ffcb",
   "metadata": {},
   "source": [
    "- Notice that the labels still exist, the only thing that was erased was the edge:"
   ]
  },
  {
   "cell_type": "code",
   "execution_count": 65,
   "id": "de904ce9",
   "metadata": {},
   "outputs": [
    {
     "data": {
      "text/plain": [
       "[{'result': {'born': 1964, 'name': 'Keanu Reeves'}},\n",
       " {'result': {'tagline': 'Welcome to the Real World',\n",
       "   'title': 'The Matrix',\n",
       "   'released': 1999}}]"
      ]
     },
     "execution_count": 65,
     "metadata": {},
     "output_type": "execute_result"
    }
   ],
   "source": [
    "cypher = \"\"\"\n",
    "MATCH (keanu:Person {name:\"Keanu Reeves\"})\n",
    "RETURN keanu AS result\n",
    "UNION\n",
    "MATCH (movie:Movie {title:\"The Matrix\"}) \n",
    "RETURN movie AS result\n",
    "\"\"\"\n",
    "result = kg.query(cypher)\n",
    "result"
   ]
  },
  {
   "cell_type": "markdown",
   "id": "109de94e-3526-4dad-9a62-1beb6c5dad2d",
   "metadata": {},
   "source": [
    "### Adding data to the graph"
   ]
  },
  {
   "cell_type": "code",
   "execution_count": 66,
   "id": "ed1665da-b9ec-4b81-9e1f-de19af49d0d8",
   "metadata": {
    "height": 115
   },
   "outputs": [
    {
     "data": {
      "text/plain": [
       "[{'andreas': {'name': 'Andreas'}}]"
      ]
     },
     "execution_count": 66,
     "metadata": {},
     "output_type": "execute_result"
    }
   ],
   "source": [
    "cypher = \"\"\"\n",
    "CREATE (andreas:Person {name:\"Andreas\"})\n",
    "RETURN andreas\n",
    "\"\"\"\n",
    "\n",
    "kg.query(cypher)"
   ]
  },
  {
   "cell_type": "code",
   "execution_count": 67,
   "id": "1a0b9bb9-4491-45e2-9a4d-2306ea0a2bd8",
   "metadata": {
    "height": 115
   },
   "outputs": [
    {
     "data": {
      "text/plain": [
       "[{'andreas': {'name': 'Andreas'},\n",
       "  'hasRelationship': ({'name': 'Andreas'},\n",
       "   'WORKS_WITH',\n",
       "   {'born': 1978, 'name': 'Emil Eifrem'}),\n",
       "  'emil': {'born': 1978, 'name': 'Emil Eifrem'}}]"
      ]
     },
     "execution_count": 67,
     "metadata": {},
     "output_type": "execute_result"
    }
   ],
   "source": [
    "cypher = \"\"\"\n",
    "MATCH (andreas:Person {name:\"Andreas\"}), (emil:Person {name:\"Emil Eifrem\"})\n",
    "MERGE (andreas)-[hasRelationship:WORKS_WITH]->(emil)\n",
    "RETURN andreas, hasRelationship, emil\n",
    "\"\"\"\n",
    "kg.query(cypher)"
   ]
  },
  {
   "cell_type": "markdown",
   "id": "90d15c44",
   "metadata": {},
   "source": [
    "- Notice also that the new edge type was created:"
   ]
  },
  {
   "cell_type": "code",
   "execution_count": 71,
   "id": "c26f40ba",
   "metadata": {},
   "outputs": [
    {
     "data": {
      "text/plain": [
       "[{'type(r)': 'ACTED_IN'},\n",
       " {'type(r)': 'DIRECTED'},\n",
       " {'type(r)': 'PRODUCED'},\n",
       " {'type(r)': 'WROTE'},\n",
       " {'type(r)': 'FOLLOWS'},\n",
       " {'type(r)': 'REVIEWED'},\n",
       " {'type(r)': 'WORKS_WITH'}]"
      ]
     },
     "execution_count": 71,
     "metadata": {},
     "output_type": "execute_result"
    }
   ],
   "source": [
    "cypher = \"\"\"\n",
    "MATCH ()-[r]->()\n",
    "RETURN DISTINCT type(r)\n",
    "\"\"\"\n",
    "result = kg.query(cypher)\n",
    "result"
   ]
  }
 ],
 "metadata": {
  "kernelspec": {
   "display_name": "Python 3",
   "language": "python",
   "name": "python3"
  },
  "language_info": {
   "codemirror_mode": {
    "name": "ipython",
    "version": 3
   },
   "file_extension": ".py",
   "mimetype": "text/x-python",
   "name": "python",
   "nbconvert_exporter": "python",
   "pygments_lexer": "ipython3",
   "version": "3.12.0"
  }
 },
 "nbformat": 4,
 "nbformat_minor": 5
}
